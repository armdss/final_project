{
 "cells": [
  {
   "cell_type": "code",
   "execution_count": 1,
   "id": "82d3c525",
   "metadata": {},
   "outputs": [],
   "source": [
    "import pandas as pd\n",
    "import numpy as np\n",
    "import matplotlib.pyplot as plt\n",
    "import seaborn as sns\n",
    "import pandahouse as ph\n",
    "import requests\n",
    "from urllib.parse import urlencode\n",
    "\n",
    "from scipy import stats\n",
    "from scipy.stats import norm\n",
    "from scipy.stats import chi2_contingency\n",
    "\n",
    "%matplotlib inline"
   ]
  },
  {
   "cell_type": "markdown",
   "id": "2732bf85",
   "metadata": {},
   "source": [
    "# 1 Задание\n",
    "В качестве задания Вам необходимо проанализировать итоги эксперимента и сделать вывод, стоит ли запускать новую механику оплаты на всех пользователей."
   ]
  },
  {
   "cell_type": "code",
   "execution_count": 2,
   "id": "c970653f",
   "metadata": {},
   "outputs": [],
   "source": [
    "public_key = ['https://disk.yandex.ru/d/DHBVch_HKdfv0Q',\n",
    "              'https://disk.yandex.ru/d/UCH14IszZDYt9Q',\n",
    "              'https://disk.yandex.ru/d/VUAKNevy43kYsA',\n",
    "              'https://disk.yandex.ru/d/5tD11aBs1qBJ3Q'] \n",
    "\n",
    "# Создаем ссылку для скачивания\n",
    "final_link = []\n",
    "for i in public_key:\n",
    "    base_url = 'https://cloud-api.yandex.net/v1/disk/public/resources/download?'\n",
    "    final_url = base_url + urlencode(dict(public_key=i))\n",
    "    response = requests.get(final_url)\n",
    "    df = response.json()['href']\n",
    "    download_response = requests.get(final_url)\n",
    "    final_link.append(df)"
   ]
  },
  {
   "cell_type": "code",
   "execution_count": 3,
   "id": "dc22cde6",
   "metadata": {},
   "outputs": [],
   "source": [
    "# загрузка файлов\n",
    "\n",
    "a_studs = pd.read_csv(final_link[0])\n",
    "checks = pd.read_csv(final_link[1], sep=';')\n",
    "groups_add = pd.read_csv(final_link[2])\n",
    "groups = pd.read_csv(final_link[3], sep=';')"
   ]
  },
  {
   "cell_type": "markdown",
   "id": "16a1fa4f",
   "metadata": {},
   "source": [
    "1. Для начала, посмотрим на данные, чтобы иметь первоначальное представление о том какие метрики будем исследовать."
   ]
  },
  {
   "cell_type": "code",
   "execution_count": 4,
   "id": "75f54a81",
   "metadata": {},
   "outputs": [
    {
     "name": "stdout",
     "output_type": "stream",
     "text": [
      "     id grp\n",
      "0  1489   B\n",
      "1  1627   A\n",
      "2  1768   B\n",
      "3  1783   B\n",
      "4  1794   A \n",
      "\n",
      "<class 'pandas.core.frame.DataFrame'>\n",
      "RangeIndex: 74484 entries, 0 to 74483\n",
      "Data columns (total 2 columns):\n",
      " #   Column  Non-Null Count  Dtype \n",
      "---  ------  --------------  ----- \n",
      " 0   id      74484 non-null  int64 \n",
      " 1   grp     74484 non-null  object\n",
      "dtypes: int64(1), object(1)\n",
      "memory usage: 1.1+ MB\n",
      "None\n"
     ]
    }
   ],
   "source": [
    "print(groups.head(), '\\n')\n",
    "print(groups.info())"
   ]
  },
  {
   "cell_type": "code",
   "execution_count": 5,
   "id": "4e50e1e3",
   "metadata": {},
   "outputs": [
    {
     "data": {
      "text/plain": [
       "74484"
      ]
     },
     "execution_count": 5,
     "metadata": {},
     "output_type": "execute_result"
    }
   ],
   "source": [
    "groups['id'].nunique()#кол-во значений совпадает с кол-м уникальных значений в id => все id уникальны"
   ]
  },
  {
   "cell_type": "code",
   "execution_count": 6,
   "id": "42673426",
   "metadata": {},
   "outputs": [
    {
     "name": "stdout",
     "output_type": "stream",
     "text": [
      "        id grp\n",
      "0  5694584   B\n",
      "1  5694830   B\n",
      "2  5695057   B\n",
      "3  5698872   B\n",
      "4  5699067   B \n",
      "\n",
      "<class 'pandas.core.frame.DataFrame'>\n",
      "RangeIndex: 92 entries, 0 to 91\n",
      "Data columns (total 2 columns):\n",
      " #   Column  Non-Null Count  Dtype \n",
      "---  ------  --------------  ----- \n",
      " 0   id      92 non-null     int64 \n",
      " 1   grp     92 non-null     object\n",
      "dtypes: int64(1), object(1)\n",
      "memory usage: 1.6+ KB\n",
      "None\n"
     ]
    }
   ],
   "source": [
    "print(groups_add.head(), '\\n')\n",
    "print(groups_add.info())"
   ]
  },
  {
   "cell_type": "code",
   "execution_count": 7,
   "id": "3b7e135b",
   "metadata": {},
   "outputs": [
    {
     "data": {
      "text/plain": [
       "92"
      ]
     },
     "execution_count": 7,
     "metadata": {},
     "output_type": "execute_result"
    }
   ],
   "source": [
    "groups_add['id'].nunique() #кол-во значений совпадает с кол-м уникальных значений в id => все id уникальны"
   ]
  },
  {
   "cell_type": "code",
   "execution_count": 8,
   "id": "830aafe8",
   "metadata": {},
   "outputs": [
    {
     "data": {
      "text/plain": [
       "0"
      ]
     },
     "execution_count": 8,
     "metadata": {},
     "output_type": "execute_result"
    }
   ],
   "source": [
    "#проверим есть ли одинаковые id  в 2х группах\n",
    "groups_add['id'].isin(groups['id']).sum()"
   ]
  },
  {
   "cell_type": "code",
   "execution_count": 9,
   "id": "4eba34f7",
   "metadata": {},
   "outputs": [
    {
     "name": "stdout",
     "output_type": "stream",
     "text": [
      "   student_id\n",
      "0      581585\n",
      "1     5723133\n",
      "2     3276743\n",
      "3     4238589\n",
      "4     4475369 \n",
      "\n",
      "<class 'pandas.core.frame.DataFrame'>\n",
      "RangeIndex: 8341 entries, 0 to 8340\n",
      "Data columns (total 1 columns):\n",
      " #   Column      Non-Null Count  Dtype\n",
      "---  ------      --------------  -----\n",
      " 0   student_id  8341 non-null   int64\n",
      "dtypes: int64(1)\n",
      "memory usage: 65.3 KB\n",
      "None\n"
     ]
    }
   ],
   "source": [
    "print(a_studs.head(), '\\n')\n",
    "print(a_studs.info())"
   ]
  },
  {
   "cell_type": "code",
   "execution_count": 10,
   "id": "1941f098",
   "metadata": {},
   "outputs": [
    {
     "data": {
      "text/plain": [
       "student_id    8341\n",
       "dtype: int64"
      ]
     },
     "execution_count": 10,
     "metadata": {},
     "output_type": "execute_result"
    }
   ],
   "source": [
    "a_studs.nunique()"
   ]
  },
  {
   "cell_type": "code",
   "execution_count": 11,
   "id": "8a52b9a9",
   "metadata": {},
   "outputs": [
    {
     "name": "stdout",
     "output_type": "stream",
     "text": [
      "   student_id    rev\n",
      "0        1627  990.0\n",
      "1        3185  690.0\n",
      "2       25973  690.0\n",
      "3       26280  690.0\n",
      "4      100300  990.0 \n",
      "\n",
      "<class 'pandas.core.frame.DataFrame'>\n",
      "RangeIndex: 541 entries, 0 to 540\n",
      "Data columns (total 2 columns):\n",
      " #   Column      Non-Null Count  Dtype  \n",
      "---  ------      --------------  -----  \n",
      " 0   student_id  541 non-null    int64  \n",
      " 1   rev         541 non-null    float64\n",
      "dtypes: float64(1), int64(1)\n",
      "memory usage: 8.6 KB\n",
      "None\n"
     ]
    }
   ],
   "source": [
    "print(checks.head(), '\\n')\n",
    "print(checks.info())"
   ]
  },
  {
   "cell_type": "code",
   "execution_count": 12,
   "id": "be34a472",
   "metadata": {},
   "outputs": [
    {
     "data": {
      "text/plain": [
       "541"
      ]
     },
     "execution_count": 12,
     "metadata": {},
     "output_type": "execute_result"
    }
   ],
   "source": [
    "checks['student_id'].nunique()"
   ]
  },
  {
   "cell_type": "markdown",
   "id": "45cc0ba5",
   "metadata": {},
   "source": [
    "Дано: \n",
    " - 2 группы студентов (A и B)\n",
    " - Новая механика оплаты\n",
    " - Провели механику на одной из групп\n",
    "\n",
    "Задание: Проанализировать итоги эсперимента и сделать вывод\n",
    "\n",
    "Метрики для анализа:\n",
    "CR - коэффициент конверсии. Здесь нам будет интересно увидеть как изменилась данная метрика при изменении механики. Это основная метрика для анализа, т.к непосредственно данная метрика покажет изменения(если они есть) при исследовании.  \n",
    "ARPU - средний доход с привлеченного пользователя\n",
    "ARPPU - средний доход с клиента. \n",
    "Эти две метрики мы возьмем чтобы смотреть не изменился ли доход(если изменился) на пользователя в рамках эксперимента.\n"
   ]
  },
  {
   "cell_type": "markdown",
   "id": "6e0a60fd",
   "metadata": {},
   "source": [
    "#соеденим 2 группы, проверим на дубли\n",
    "groups_full = pd.concat([groups, groups_add])\n",
    "print('Дублей:', groups_full['id'].duplicated().sum())\n",
    "print('Кол-во строк:',groups_full.shape[0])"
   ]
  },
  {
   "cell_type": "markdown",
   "id": "6fcf08cc",
   "metadata": {},
   "source": [
    "groups_full.groupby('grp').size()#сильные различия по кол-ву участников в группах. Для теста желательно чтобы кол-во исследуемых элементов было примерно одинаковым"
   ]
  },
  {
   "cell_type": "code",
   "execution_count": 13,
   "id": "fe3715fc",
   "metadata": {},
   "outputs": [],
   "source": [
    "# Объединение групп и активных студентов\n",
    "template = groups.merge(a_studs, how='left', left_on='id', right_on='student_id')\n",
    "\n",
    "# Объединение с проверками\n",
    "template = template.merge(checks, how='left', left_on='id', right_on='student_id')\n",
    "\n",
    "# Удаление ненужного столбца и переименование\n",
    "template = template.drop('student_id_y', axis=1).rename(columns={\"student_id_x\": \"active\"})\n",
    "\n",
    "# Заполнение пропущенных значений нулями\n",
    "template = template.fillna(0)\n",
    "\n",
    "# Преобразование столбца 'active' в 1 или 0\n",
    "template['active'] = template['active'].apply(lambda x: 1 if x > 0 else 0)"
   ]
  },
  {
   "cell_type": "code",
   "execution_count": 14,
   "id": "ccdba2d7",
   "metadata": {},
   "outputs": [
    {
     "data": {
      "text/html": [
       "<div>\n",
       "<style scoped>\n",
       "    .dataframe tbody tr th:only-of-type {\n",
       "        vertical-align: middle;\n",
       "    }\n",
       "\n",
       "    .dataframe tbody tr th {\n",
       "        vertical-align: top;\n",
       "    }\n",
       "\n",
       "    .dataframe thead th {\n",
       "        text-align: right;\n",
       "    }\n",
       "</style>\n",
       "<table border=\"1\" class=\"dataframe\">\n",
       "  <thead>\n",
       "    <tr style=\"text-align: right;\">\n",
       "      <th></th>\n",
       "      <th>id</th>\n",
       "      <th>grp</th>\n",
       "      <th>active</th>\n",
       "      <th>rev</th>\n",
       "    </tr>\n",
       "  </thead>\n",
       "  <tbody>\n",
       "    <tr>\n",
       "      <th>0</th>\n",
       "      <td>1489</td>\n",
       "      <td>B</td>\n",
       "      <td>0</td>\n",
       "      <td>0.0</td>\n",
       "    </tr>\n",
       "    <tr>\n",
       "      <th>1</th>\n",
       "      <td>1627</td>\n",
       "      <td>A</td>\n",
       "      <td>1</td>\n",
       "      <td>990.0</td>\n",
       "    </tr>\n",
       "    <tr>\n",
       "      <th>2</th>\n",
       "      <td>1768</td>\n",
       "      <td>B</td>\n",
       "      <td>0</td>\n",
       "      <td>0.0</td>\n",
       "    </tr>\n",
       "    <tr>\n",
       "      <th>3</th>\n",
       "      <td>1783</td>\n",
       "      <td>B</td>\n",
       "      <td>0</td>\n",
       "      <td>0.0</td>\n",
       "    </tr>\n",
       "    <tr>\n",
       "      <th>4</th>\n",
       "      <td>1794</td>\n",
       "      <td>A</td>\n",
       "      <td>0</td>\n",
       "      <td>0.0</td>\n",
       "    </tr>\n",
       "  </tbody>\n",
       "</table>\n",
       "</div>"
      ],
      "text/plain": [
       "     id grp  active    rev\n",
       "0  1489   B       0    0.0\n",
       "1  1627   A       1  990.0\n",
       "2  1768   B       0    0.0\n",
       "3  1783   B       0    0.0\n",
       "4  1794   A       0    0.0"
      ]
     },
     "execution_count": 14,
     "metadata": {},
     "output_type": "execute_result"
    }
   ],
   "source": [
    "template.head()"
   ]
  },
  {
   "cell_type": "code",
   "execution_count": 16,
   "id": "f0f0fcce",
   "metadata": {},
   "outputs": [],
   "source": [
    "# Фильтрует данные в template по условию, где значение столбца active равно 1. То есть, оставляем только те строки, где пользователь активен.\n",
    "# Группируем по группам и делаем аггрегацию: считаем кол-во активн пользователей в эксперименте для каждой группы\n",
    "# CR, средний чек и средний чек на платящего пользователя\n",
    "template = template[template['active'] == 1]\n",
    "grouped_data = template.groupby('grp', as_index=False).agg(\n",
    "    count_of_ids=('id', 'count'),\n",
    "    CR=('rev', lambda x: np.mean(x > 0)),\n",
    "    ARPU=('rev', 'mean'),\n",
    "    ARPPU=('rev', lambda x: np.mean(x.loc[x > 0])))"
   ]
  },
  {
   "cell_type": "code",
   "execution_count": 17,
   "id": "bc829349",
   "metadata": {},
   "outputs": [
    {
     "data": {
      "text/html": [
       "<div>\n",
       "<style scoped>\n",
       "    .dataframe tbody tr th:only-of-type {\n",
       "        vertical-align: middle;\n",
       "    }\n",
       "\n",
       "    .dataframe tbody tr th {\n",
       "        vertical-align: top;\n",
       "    }\n",
       "\n",
       "    .dataframe thead th {\n",
       "        text-align: right;\n",
       "    }\n",
       "</style>\n",
       "<table border=\"1\" class=\"dataframe\">\n",
       "  <thead>\n",
       "    <tr style=\"text-align: right;\">\n",
       "      <th></th>\n",
       "      <th>grp</th>\n",
       "      <th>count_of_ids</th>\n",
       "      <th>CR</th>\n",
       "      <th>ARPU</th>\n",
       "      <th>ARPPU</th>\n",
       "    </tr>\n",
       "  </thead>\n",
       "  <tbody>\n",
       "    <tr>\n",
       "      <th>0</th>\n",
       "      <td>A</td>\n",
       "      <td>1535</td>\n",
       "      <td>0.050814</td>\n",
       "      <td>47.439739</td>\n",
       "      <td>933.589744</td>\n",
       "    </tr>\n",
       "    <tr>\n",
       "      <th>1</th>\n",
       "      <td>B</td>\n",
       "      <td>6793</td>\n",
       "      <td>0.046077</td>\n",
       "      <td>57.864567</td>\n",
       "      <td>1255.827487</td>\n",
       "    </tr>\n",
       "  </tbody>\n",
       "</table>\n",
       "</div>"
      ],
      "text/plain": [
       "  grp  count_of_ids        CR       ARPU        ARPPU\n",
       "0   A          1535  0.050814  47.439739   933.589744\n",
       "1   B          6793  0.046077  57.864567  1255.827487"
      ]
     },
     "execution_count": 17,
     "metadata": {},
     "output_type": "execute_result"
    }
   ],
   "source": [
    "grouped_data"
   ]
  },
  {
   "cell_type": "code",
   "execution_count": 18,
   "id": "02711a82",
   "metadata": {},
   "outputs": [
    {
     "data": {
      "text/html": [
       "<div>\n",
       "<style scoped>\n",
       "    .dataframe tbody tr th:only-of-type {\n",
       "        vertical-align: middle;\n",
       "    }\n",
       "\n",
       "    .dataframe tbody tr th {\n",
       "        vertical-align: top;\n",
       "    }\n",
       "\n",
       "    .dataframe thead th {\n",
       "        text-align: right;\n",
       "    }\n",
       "</style>\n",
       "<table border=\"1\" class=\"dataframe\">\n",
       "  <thead>\n",
       "    <tr style=\"text-align: right;\">\n",
       "      <th></th>\n",
       "      <th>id</th>\n",
       "      <th>grp</th>\n",
       "      <th>active</th>\n",
       "      <th>rev</th>\n",
       "    </tr>\n",
       "  </thead>\n",
       "  <tbody>\n",
       "    <tr>\n",
       "      <th>1</th>\n",
       "      <td>1627</td>\n",
       "      <td>A</td>\n",
       "      <td>1</td>\n",
       "      <td>990.0</td>\n",
       "    </tr>\n",
       "    <tr>\n",
       "      <th>10</th>\n",
       "      <td>2085</td>\n",
       "      <td>B</td>\n",
       "      <td>1</td>\n",
       "      <td>0.0</td>\n",
       "    </tr>\n",
       "    <tr>\n",
       "      <th>12</th>\n",
       "      <td>2215</td>\n",
       "      <td>B</td>\n",
       "      <td>1</td>\n",
       "      <td>0.0</td>\n",
       "    </tr>\n",
       "    <tr>\n",
       "      <th>43</th>\n",
       "      <td>3391</td>\n",
       "      <td>A</td>\n",
       "      <td>1</td>\n",
       "      <td>0.0</td>\n",
       "    </tr>\n",
       "    <tr>\n",
       "      <th>45</th>\n",
       "      <td>3401</td>\n",
       "      <td>B</td>\n",
       "      <td>1</td>\n",
       "      <td>0.0</td>\n",
       "    </tr>\n",
       "  </tbody>\n",
       "</table>\n",
       "</div>"
      ],
      "text/plain": [
       "      id grp  active    rev\n",
       "1   1627   A       1  990.0\n",
       "10  2085   B       1    0.0\n",
       "12  2215   B       1    0.0\n",
       "43  3391   A       1    0.0\n",
       "45  3401   B       1    0.0"
      ]
     },
     "execution_count": 18,
     "metadata": {},
     "output_type": "execute_result"
    }
   ],
   "source": [
    "template.head()"
   ]
  },
  {
   "cell_type": "code",
   "execution_count": 23,
   "id": "7836d9d3",
   "metadata": {},
   "outputs": [
    {
     "data": {
      "text/plain": [
       "Text(0.5, 1.0, 'Распределение кол-ва оплат по суммам')"
      ]
     },
     "execution_count": 23,
     "metadata": {},
     "output_type": "execute_result"
    },
    {
     "data": {
      "image/png": "[encoded data removed]",
      "text/plain": [
       "<Figure size 432x288 with 1 Axes>"
      ]
     },
     "metadata": {
      "needs_background": "light"
     },
     "output_type": "display_data"
    }
   ],
   "source": [
    "#посмотрим как распределилось кол-во оплат по ценам в исследуемых группах\n",
    "template_filtered = template[(template['rev'] > 0)]  # Фильтрация данных по условиям rev > 0\n",
    "sns.histplot(data=template_filtered, x=\"rev\", hue=\"grp\", multiple=\"dodge\", shrink=.8, bins=6)\n",
    "plt.title('Распределение кол-ва оплат по суммам')"
   ]
  },
  {
   "cell_type": "code",
   "execution_count": 24,
   "id": "e269b55d",
   "metadata": {},
   "outputs": [
    {
     "data": {
      "image/png": "[encoded data removed]",
      "text/plain": [
       "<Figure size 720x432 with 1 Axes>"
      ]
     },
     "metadata": {
      "needs_background": "light"
     },
     "output_type": "display_data"
    }
   ],
   "source": [
    "# в тестовой группе есть выброс в покупках на сумму 1900р.:\n",
    "\n",
    "data = template.query('rev > 0 and grp == \"B\" and active == 1').rev.value_counts().head(10)\n",
    "plt.figure(figsize=(10, 6))\n",
    "sns.barplot(x=data.index, y=data.values)\n",
    "plt.xlabel('rev') \n",
    "plt.ylabel('Count')\n",
    "plt.title('Распределение оплат в группе B')\n",
    "plt.show()\n"
   ]
  },
  {
   "cell_type": "markdown",
   "id": "9af6a154",
   "metadata": {},
   "source": [
    "Похоже, что рост средних метрик ARPU и ARPPU может быть связан с выбросом в виде покупок по цене 1900. В остальном распределения метрик очень похожи. Это может указывать на действие маркетинга, которая повлияла только на клиентов в тестовой группе. Здесь требуется доп. информация. Без этой информации проведение тестов может привести к серьезным ошибкам в выводах.\n",
    "\n",
    "Основывая на этих данных оценивать различия в метриках ARPU и ARPPU имеет мало смысла, так как мы фокусировались на оценке новой механики оплаты. Более логичным и важным для нас является оценка конверсии в оплату (CR), которая фактически уменьшилась в тестовой группе. Тем не менее, проведем статистические тесты, чтобы проверить, есть ли статистическая значимость в этих различиях."
   ]
  },
  {
   "cell_type": "markdown",
   "id": "c6fb7534",
   "metadata": {},
   "source": [
    "Для проверки разницы в конверсии между группами будем использовать непараметрический критерий хи-квадрат.\n",
    "\n",
    "H0 - cr не изменился.\n",
    "H1 - cr измениля.\n",
    "α = 0,05\n",
    "Разобьем группы пользователей на оплативших и не оплативших."
   ]
  },
  {
   "cell_type": "code",
   "execution_count": 186,
   "id": "6eac29c4",
   "metadata": {},
   "outputs": [
    {
     "data": {
      "text/html": [
       "<div>\n",
       "<style scoped>\n",
       "    .dataframe tbody tr th:only-of-type {\n",
       "        vertical-align: middle;\n",
       "    }\n",
       "\n",
       "    .dataframe tbody tr th {\n",
       "        vertical-align: top;\n",
       "    }\n",
       "\n",
       "    .dataframe thead th {\n",
       "        text-align: right;\n",
       "    }\n",
       "</style>\n",
       "<table border=\"1\" class=\"dataframe\">\n",
       "  <thead>\n",
       "    <tr style=\"text-align: right;\">\n",
       "      <th>rev</th>\n",
       "      <th>Not_buy</th>\n",
       "      <th>Buy</th>\n",
       "    </tr>\n",
       "    <tr>\n",
       "      <th>grp</th>\n",
       "      <th></th>\n",
       "      <th></th>\n",
       "    </tr>\n",
       "  </thead>\n",
       "  <tbody>\n",
       "    <tr>\n",
       "      <th>A</th>\n",
       "      <td>1457</td>\n",
       "      <td>78</td>\n",
       "    </tr>\n",
       "    <tr>\n",
       "      <th>B</th>\n",
       "      <td>6480</td>\n",
       "      <td>313</td>\n",
       "    </tr>\n",
       "  </tbody>\n",
       "</table>\n",
       "</div>"
      ],
      "text/plain": [
       "rev  Not_buy  Buy\n",
       "grp              \n",
       "A       1457   78\n",
       "B       6480  313"
      ]
     },
     "execution_count": 186,
     "metadata": {},
     "output_type": "execute_result"
    }
   ],
   "source": [
    "#созадим табл на основе котороый сделае тест\n",
    "сhi_table = pd.crosstab(template[template['active']==1].grp, template.rev > 0)\n",
    "сhi_table.rename(columns={False: 'Not_buy', True: 'Buy'})"
   ]
  },
  {
   "cell_type": "code",
   "execution_count": 187,
   "id": "d974edd4",
   "metadata": {},
   "outputs": [
    {
     "name": "stdout",
     "output_type": "stream",
     "text": [
      "p-value: 0.46803677583199144\n"
     ]
    }
   ],
   "source": [
    "chi2, p, dof, ex = chi2_contingency(сhi_table)\n",
    "print(f\"p-value: {p}\")"
   ]
  },
  {
   "cell_type": "markdown",
   "id": "34ddac52",
   "metadata": {},
   "source": [
    "Вывод:\n",
    "\n",
    "p - value существенно выше α. Не отклоняем H0 гипотезу, стат значимой разницы между cr исследуемых групп нет.\n",
    "Данную механику не запускаем"
   ]
  },
  {
   "cell_type": "markdown",
   "id": "0de506fe",
   "metadata": {},
   "source": [
    "# Задание 2.1\n",
    "\n",
    "Необходимо написать запрос, который даст информацию о количестве очень усердных студентов.\n",
    "Под усердным студентом будем понимать студента, который правильно решил 20 задач за текущий месяц."
   ]
  },
  {
   "cell_type": "code",
   "execution_count": 30,
   "id": "7e62bcfc",
   "metadata": {},
   "outputs": [],
   "source": [
    "connection_default = {'host': 'http://clickhouse.beslan.pro:8080',\n",
    "                      'database': 'default',\n",
    "                      'user': 'student',\n",
    "                      'password': 'dpo_python_2020'\n",
    "                      }"
   ]
  },
  {
   "cell_type": "code",
   "execution_count": 31,
   "id": "f15baffc",
   "metadata": {},
   "outputs": [],
   "source": [
    "# пишем подзапрос для расчета уникальных студентов кол-во действий в сек и фильтруем \n",
    "# по тем у кого уник действий больше чем 1\n",
    "# далее группируем все по st_id и фильтруем по кол-ву правильно решивших 20 и более задач\n",
    "q_1 = '''\n",
    "\n",
    "SELECT COUNT(DISTINCT st_id) As total_st\n",
    "FROM (SELECT\n",
    "            st_id,                                           \n",
    "            COUNT(DISTINCT st_id) AS total_st,\n",
    "            SUM(correct_mark) AS total_corr_task\n",
    "    FROM    (SELECT\n",
    "                DISTINCT st_id AS st_id,\n",
    "                timest,\n",
    "                groupArray(subject) AS sub_list,\n",
    "                COUNT(subject) AS num_subj,\n",
    "                COUNT(correct) AS num_task,\n",
    "                COUNT(DISTINCT correct) AS num_correct,\n",
    "                SUM(correct) AS correct_mark\n",
    "            FROM default.peas                    \n",
    "            GROUP BY st_id, timest\n",
    "            HAVING     num_task < 2\n",
    "                   AND num_correct < 2 \n",
    "                   AND num_subj < 2                          \n",
    "            ORDER BY num_task DESC, num_correct DESC)\n",
    "    GROUP BY st_id\n",
    "    HAVING total_corr_task >= 20)\n",
    "'''"
   ]
  },
  {
   "cell_type": "code",
   "execution_count": 32,
   "id": "13362a5b",
   "metadata": {},
   "outputs": [
    {
     "data": {
      "text/html": [
       "<div>\n",
       "<style scoped>\n",
       "    .dataframe tbody tr th:only-of-type {\n",
       "        vertical-align: middle;\n",
       "    }\n",
       "\n",
       "    .dataframe tbody tr th {\n",
       "        vertical-align: top;\n",
       "    }\n",
       "\n",
       "    .dataframe thead th {\n",
       "        text-align: right;\n",
       "    }\n",
       "</style>\n",
       "<table border=\"1\" class=\"dataframe\">\n",
       "  <thead>\n",
       "    <tr style=\"text-align: right;\">\n",
       "      <th></th>\n",
       "      <th>total_st</th>\n",
       "    </tr>\n",
       "  </thead>\n",
       "  <tbody>\n",
       "    <tr>\n",
       "      <th>0</th>\n",
       "      <td>136</td>\n",
       "    </tr>\n",
       "  </tbody>\n",
       "</table>\n",
       "</div>"
      ],
      "text/plain": [
       "   total_st\n",
       "0       136"
      ]
     },
     "execution_count": 32,
     "metadata": {},
     "output_type": "execute_result"
    }
   ],
   "source": [
    "query1 = ph.read_clickhouse(query=q_1, connection=connection_default)\n",
    "query1"
   ]
  },
  {
   "cell_type": "markdown",
   "id": "cbe78b73",
   "metadata": {},
   "source": [
    "# Задание 2.2\n",
    "\n",
    "Дана таблицы\n",
    "\n",
    "Необходимо в одном запросе выгрузить следующую информацию о группах пользователей:\n",
    "\n",
    "ARPU \n",
    "ARPAU \n",
    "CR в покупку \n",
    "СR активного пользователя в покупку \n",
    "CR пользователя из активности по математике (subject = ’math’) в покупку курса по математике\n",
    "ARPU считается относительно всех пользователей, попавших в группы.\n",
    "\n",
    "Активным считается пользователь, за все время решивший больше 10 задач правильно в любых дисциплинах.\n",
    "\n",
    "Активным по математике считается пользователь, за все время решивший 2 или больше задач правильно по математике.\n"
   ]
  },
  {
   "cell_type": "code",
   "execution_count": 42,
   "id": "6dbdb222",
   "metadata": {},
   "outputs": [],
   "source": [
    "q_2 = '''\n",
    "select \n",
    "    test_grp,\n",
    "    ROUND(sum(money)/uniqExact(studs.st_id), 2) as ARPU,\n",
    "    ROUND(sumIf(money, total_peas > 10)/uniqIf(studs.st_id, total_peas > 10), 2) as ARPAU,\n",
    "    ROUND(uniqIf(studs.st_id, money > 0)/uniqExact(studs.st_id), 2) as CR,\n",
    "    ROUND(uniqIf(studs.st_id, money > 0 AND total_peas > 10)/uniqIf(studs.st_id, total_peas > 10), 2) as CR_A,\n",
    "    ROUND(uniqIf(studs.st_id, money > 0 AND peas_by_math > 1 and subject = 'Math')/uniqIf(studs.st_id, peas_by_math > 1), 2) as CR_A_math\n",
    "\n",
    "from\n",
    "  default.studs\n",
    "  left join (\n",
    "    select\n",
    "      st_id,\n",
    "      subject,\n",
    "      money\n",
    "    from\n",
    "      default.final_project_check\n",
    "\n",
    "  ) as checks ON studs.st_id = checks.st_id\n",
    "  left join (\n",
    "    select\n",
    "      st_id,\n",
    "      SUM(correct) as total_peas,\n",
    "      SUMIf(correct, subject = 'Math') as peas_by_math\n",
    "    from\n",
    "      default.peas\n",
    "    group by\n",
    "      st_id\n",
    "  ) as peas ON studs.st_id = peas.st_id\n",
    "group by test_grp\n",
    "'''"
   ]
  },
  {
   "cell_type": "code",
   "execution_count": 43,
   "id": "480206d8",
   "metadata": {},
   "outputs": [
    {
     "data": {
      "text/html": [
       "<div>\n",
       "<style scoped>\n",
       "    .dataframe tbody tr th:only-of-type {\n",
       "        vertical-align: middle;\n",
       "    }\n",
       "\n",
       "    .dataframe tbody tr th {\n",
       "        vertical-align: top;\n",
       "    }\n",
       "\n",
       "    .dataframe thead th {\n",
       "        text-align: right;\n",
       "    }\n",
       "</style>\n",
       "<table border=\"1\" class=\"dataframe\">\n",
       "  <thead>\n",
       "    <tr style=\"text-align: right;\">\n",
       "      <th></th>\n",
       "      <th>test_grp</th>\n",
       "      <th>ARPU</th>\n",
       "      <th>ARPAU</th>\n",
       "      <th>CR</th>\n",
       "      <th>CR_A</th>\n",
       "      <th>CR_A_math</th>\n",
       "    </tr>\n",
       "  </thead>\n",
       "  <tbody>\n",
       "    <tr>\n",
       "      <th>0</th>\n",
       "      <td>control</td>\n",
       "      <td>4540.98</td>\n",
       "      <td>10393.70</td>\n",
       "      <td>0.05</td>\n",
       "      <td>0.11</td>\n",
       "      <td>0.06</td>\n",
       "    </tr>\n",
       "    <tr>\n",
       "      <th>1</th>\n",
       "      <td>pilot</td>\n",
       "      <td>11508.47</td>\n",
       "      <td>29739.58</td>\n",
       "      <td>0.11</td>\n",
       "      <td>0.26</td>\n",
       "      <td>0.10</td>\n",
       "    </tr>\n",
       "  </tbody>\n",
       "</table>\n",
       "</div>"
      ],
      "text/plain": [
       "  test_grp      ARPU     ARPAU    CR  CR_A  CR_A_math\n",
       "0  control   4540.98  10393.70  0.05  0.11       0.06\n",
       "1    pilot  11508.47  29739.58  0.11  0.26       0.10"
      ]
     },
     "execution_count": 43,
     "metadata": {},
     "output_type": "execute_result"
    }
   ],
   "source": [
    "query2 = ph.read_clickhouse(query=q_2, connection=connection_default)\n",
    "query2"
   ]
  },
  {
   "cell_type": "markdown",
   "id": "c82d17e5",
   "metadata": {},
   "source": [
    "# Задание 3.1\n",
    "\n",
    "Реализуйте функцию, которая будет автоматически подгружать информацию из дополнительного файла groups_add.csv (заголовки могут отличаться) и на основании дополнительных параметров пересчитывать метрики."
   ]
  },
  {
   "cell_type": "code",
   "execution_count": 193,
   "id": "99d30ea1",
   "metadata": {},
   "outputs": [],
   "source": [
    "def get_metrics(groups, groups_add, a_studs, checks):\n",
    "    groups_add.columns = groups.columns\n",
    "    groups = pd.concat([groups, groups_add])\n",
    "    template = groups.merge(a_studs, how='left', left_on='id', right_on='student_id') \\\n",
    "              .merge(checks, how='left', left_on='id', right_on='student_id').drop('student_id_y', axis=1) \\\n",
    "              .rename(columns={\"student_id_x\": \"active\"}) \\\n",
    "              .fillna(0)\n",
    "\n",
    "    template['active'] = template['active'].apply(lambda x: 1 if x > 0 else 0)\n",
    "\n",
    "    result = template[template['active'] == 1].groupby('grp', as_index=False).agg(\n",
    "        count_of_ids=('id', 'count'),\n",
    "        ARPU=('rev', 'mean'),\n",
    "        ARPPU=('rev', lambda x: np.mean(pd.Series(x).loc[lambda x: x > 0])),\n",
    "        CR=('rev', lambda x: np.mean(x > 0))\n",
    "    )\n",
    "\n",
    "    return result"
   ]
  },
  {
   "cell_type": "code",
   "execution_count": 194,
   "id": "44305d20",
   "metadata": {},
   "outputs": [
    {
     "data": {
      "text/html": [
       "<div>\n",
       "<style scoped>\n",
       "    .dataframe tbody tr th:only-of-type {\n",
       "        vertical-align: middle;\n",
       "    }\n",
       "\n",
       "    .dataframe tbody tr th {\n",
       "        vertical-align: top;\n",
       "    }\n",
       "\n",
       "    .dataframe thead th {\n",
       "        text-align: right;\n",
       "    }\n",
       "</style>\n",
       "<table border=\"1\" class=\"dataframe\">\n",
       "  <thead>\n",
       "    <tr style=\"text-align: right;\">\n",
       "      <th></th>\n",
       "      <th>grp</th>\n",
       "      <th>count_of_ids</th>\n",
       "      <th>ARPU</th>\n",
       "      <th>ARPPU</th>\n",
       "      <th>CR</th>\n",
       "    </tr>\n",
       "  </thead>\n",
       "  <tbody>\n",
       "    <tr>\n",
       "      <th>0</th>\n",
       "      <td>A</td>\n",
       "      <td>1538</td>\n",
       "      <td>47.347204</td>\n",
       "      <td>933.589744</td>\n",
       "      <td>0.050715</td>\n",
       "    </tr>\n",
       "    <tr>\n",
       "      <th>1</th>\n",
       "      <td>B</td>\n",
       "      <td>6803</td>\n",
       "      <td>58.058798</td>\n",
       "      <td>1257.878992</td>\n",
       "      <td>0.046156</td>\n",
       "    </tr>\n",
       "  </tbody>\n",
       "</table>\n",
       "</div>"
      ],
      "text/plain": [
       "  grp  count_of_ids       ARPU        ARPPU        CR\n",
       "0   A          1538  47.347204   933.589744  0.050715\n",
       "1   B          6803  58.058798  1257.878992  0.046156"
      ]
     },
     "execution_count": 194,
     "metadata": {},
     "output_type": "execute_result"
    }
   ],
   "source": [
    "params = get_metrics(groups, groups_add, a_studs, checks)\n",
    "params"
   ]
  },
  {
   "cell_type": "markdown",
   "id": "ca3aabe8",
   "metadata": {},
   "source": [
    "# Задание 3.2\n",
    "\n",
    "Реализуйте функцию, которая будет строить графики по получаемым метрикам."
   ]
  },
  {
   "cell_type": "code",
   "execution_count": 203,
   "id": "2699ff03",
   "metadata": {},
   "outputs": [],
   "source": [
    "def get_metrics_chart(params):\n",
    "    fig, axs = plt.subplots(nrows=1, ncols=3, figsize=(12, 3))\n",
    "\n",
    "    colors = ['red', 'blue']\n",
    "\n",
    "    axs[0].bar(params.grp, params.ARPU, color=colors, alpha=0.6)\n",
    "    axs[0].set_title('ARPU')\n",
    "\n",
    "    axs[1].bar(params.grp, params.ARPPU, color=colors, alpha=0.6)\n",
    "    axs[1].set_title('ARPPU')\n",
    "\n",
    "    axs[2].bar(params.grp, params.CR, color=colors, alpha=0.6)\n",
    "    axs[2].set_title('CR')\n",
    "\n",
    "    plt.show()\n"
   ]
  },
  {
   "cell_type": "code",
   "execution_count": 204,
   "id": "83735bf9",
   "metadata": {},
   "outputs": [
    {
     "data": {
      "image/png": "[encoded data removed]",
      "text/plain": [
       "<Figure size 864x216 with 3 Axes>"
      ]
     },
     "metadata": {
      "needs_background": "light"
     },
     "output_type": "display_data"
    }
   ],
   "source": [
    "get_metrics_chart(params)"
   ]
  },
  {
   "cell_type": "code",
   "execution_count": null,
   "id": "b886d05b",
   "metadata": {},
   "outputs": [],
   "source": []
  }
 ],
 "metadata": {
  "kernelspec": {
   "display_name": "Python 3 (ipykernel)",
   "language": "python",
   "name": "python3"
  },
  "language_info": {
   "codemirror_mode": {
    "name": "ipython",
    "version": 3
   },
   "file_extension": ".py",
   "mimetype": "text/x-python",
   "name": "python",
   "nbconvert_exporter": "python",
   "pygments_lexer": "ipython3",
   "version": "3.11.3"
  }
 },
 "nbformat": 4,
 "nbformat_minor": 5
}
